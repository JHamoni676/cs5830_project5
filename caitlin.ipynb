{
 "cells": [
  {
   "cell_type": "code",
   "execution_count": 1,
   "metadata": {},
   "outputs": [],
   "source": [
    "import pandas as pd\n",
    "import matplotlib.pyplot as plt\n",
    "import seaborn as sns"
   ]
  },
  {
   "cell_type": "code",
   "execution_count": null,
   "metadata": {},
   "outputs": [],
   "source": [
    "df_b = pd.read_csv('core/goodreads_reviews_complete.csv')\n",
    "df_books = df_b.dropna(subset=['review_text'])\n",
    "df_books['sentiment'] = df_books['rating'].apply(lambda x: 0 if x < 4 else 1)\n",
    "df_books.head()"
   ]
  },
  {
   "cell_type": "code",
   "execution_count": null,
   "metadata": {},
   "outputs": [],
   "source": [
    "df_m = pd.read_csv('core/IMDB_reviews_complete.csv')\n",
    "df_movies = df_m.dropna(subset=['rating', 'review'])\n",
    "df_movies['rating'] = pd.to_numeric(df_movies['rating'], errors='coerce')\n",
    "df_movies['sentiment'] = df_movies['rating'].apply(lambda x: 0 if x <= 4 else 1)\n",
    "df_movies.head()"
   ]
  },
  {
   "cell_type": "code",
   "execution_count": null,
   "metadata": {},
   "outputs": [],
   "source": [
    "ax = sns.countplot(x='rating', data=df_b)\n",
    "\n",
    "plt.title('Distribution of the Ratings on Goodreads')\n",
    "plt.xlabel('Rating')\n",
    "plt.ylabel('Number of Reviews')\n",
    "\n",
    "\n",
    "print('median: {}'.format(df_b.rating.median()))\n",
    "print('mean: {}'.format(df_b.rating.mean()))"
   ]
  },
  {
   "cell_type": "code",
   "execution_count": 5,
   "metadata": {},
   "outputs": [],
   "source": [
    "df_movies = df_movies.dropna()\n",
    "df_movies = df_movies.drop(df_movies[df_movies['rating'] == 'Null'].index)\n",
    "df_movies['rating'] = df_movies.rating.astype('float')"
   ]
  },
  {
   "cell_type": "code",
   "execution_count": null,
   "metadata": {},
   "outputs": [],
   "source": [
    "ax = sns.countplot(data=df_movies, x='rating')\n",
    "\n",
    "plt.title('Distribution of the Ratings on IMDB')\n",
    "plt.xlabel('Rating')\n",
    "plt.ylabel('Number of Reviews')\n",
    "\n",
    "\n",
    "print('median: {}'.format(df_movies.rating.median()))\n",
    "print('mean: {}'.format(df_movies.rating.mean()))"
   ]
  },
  {
   "cell_type": "code",
   "execution_count": null,
   "metadata": {},
   "outputs": [],
   "source": [
    "ax = sns.countplot(x='sentiment', data=df_books)\n",
    "\n",
    "plt.title('Distribution of the Sentiments on Goodreads')\n",
    "plt.xlabel('Sentiment (0: Negative; 1: Positive)')\n",
    "plt.ylabel('Number of Reviews')"
   ]
  },
  {
   "cell_type": "code",
   "execution_count": null,
   "metadata": {},
   "outputs": [],
   "source": [
    "ax = sns.countplot(data=df_movies, x='sentiment')\n",
    "\n",
    "plt.title('Distribution of the Sentiments on IMDB')\n",
    "plt.xlabel('Sentiment (0: Negative; 1: Positive)')\n",
    "plt.ylabel('Number of Reviews')"
   ]
  }
 ],
 "metadata": {
  "kernelspec": {
   "display_name": "base",
   "language": "python",
   "name": "python3"
  },
  "language_info": {
   "codemirror_mode": {
    "name": "ipython",
    "version": 3
   },
   "file_extension": ".py",
   "mimetype": "text/x-python",
   "name": "python",
   "nbconvert_exporter": "python",
   "pygments_lexer": "ipython3",
   "version": "3.12.4"
  }
 },
 "nbformat": 4,
 "nbformat_minor": 2
}
