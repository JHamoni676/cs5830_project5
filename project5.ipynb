{
 "cells": [
  {
   "cell_type": "code",
   "execution_count": 1,
   "metadata": {},
   "outputs": [],
   "source": [
    "import pandas as pd\n",
    "import os\n",
    "from sklearn.model_selection import train_test_split\n",
    "from sklearn.metrics import precision_recall_fscore_support\n",
    "from sklearn.naive_bayes import MultinomialNB\n",
    "from sklearn.feature_extraction.text import CountVectorizer"
   ]
  },
  {
   "cell_type": "code",
   "execution_count": null,
   "metadata": {},
   "outputs": [],
   "source": [
    "# df_b_make_csv = pd.read_json('core/goodreads_reviews_raw.json', lines=True)\n",
    "# df_b_make_csv.to_csv('core/goodreads_reviews_complete.csv')\n",
    "# df_b = df_books.sample(frac=0.5, random_state=42)\n",
    "# df_b.to_csv('core/goodreads_reviews_halved.csv')\n",
    "\n",
    "df_b = pd.read_csv('core/goodreads_reviews_complete.csv')\n",
    "# df_b = pd.read_csv('core/goodreads_reviews_halved.csv')\n",
    "df_b.head()"
   ]
  },
  {
   "cell_type": "code",
   "execution_count": null,
   "metadata": {},
   "outputs": [],
   "source": [
    "# folder_path = 'core/dataset/'\n",
    "# csv_files = [f for f in os.listdir(folder_path) if f.endswith('.csv')]\n",
    "# dfs = []\n",
    "# for file in csv_files:\n",
    "#     file_path = os.path.join(folder_path, file)\n",
    "#     df = pd.read_csv(file_path)\n",
    "#     df['movie_title'] = file.split('.csv')[0]\n",
    "#     dfs.append(df)\n",
    "# df_m = pd.concat(dfs, ignore_index=True)\n",
    "# df_m.to_csv('core/IMDB_reviews_complete.csv')\n",
    "# df_m = df_movies.sample(frac=0.5, random_state=42)\n",
    "# df_m.to_csv('core/IMDB_reviews_halved.csv')\n",
    "\n",
    "df_m = pd.read_csv('core/IMDB_reviews_complete.csv')\n",
    "# df_m = pd.read_csv('core/IMDB_reviews_halved.csv')\n",
    "df_m.head()"
   ]
  },
  {
   "cell_type": "markdown",
   "metadata": {},
   "source": [
    "### Negative - Neutral - Positive"
   ]
  },
  {
   "cell_type": "code",
   "execution_count": null,
   "metadata": {},
   "outputs": [],
   "source": [
    "df_books = df_b.dropna(subset=['review_text'])\n",
    "df_books['sentiment'] = df_books['rating'].apply(lambda x: 0 if x <= 2 else (1 if x == 3 else 2))\n",
    "df_books.head()"
   ]
  },
  {
   "cell_type": "code",
   "execution_count": null,
   "metadata": {},
   "outputs": [],
   "source": [
    "df_movies = df_m.dropna(subset=['rating', 'review'])\n",
    "df_movies['rating'] = pd.to_numeric(df_movies['rating'], errors='coerce')\n",
    "df_movies['sentiment'] = df_movies['rating'].apply(lambda x: 0 if x <= 3 else (1 if 4 <= x <= 6 else 2))\n",
    "df_movies.head()\n"
   ]
  },
  {
   "cell_type": "code",
   "execution_count": null,
   "metadata": {},
   "outputs": [],
   "source": [
    "X_books = df_books['review_text']\n",
    "y_books = df_books['sentiment']\n",
    "\n",
    "X_train_books, X_test_books, y_train_books, y_test_books = train_test_split(X_books, y_books, test_size=0.2)\n",
    "\n",
    "count_vect_books = CountVectorizer()\n",
    "X_train_counts_books = count_vect_books.fit_transform(X_train_books)\n",
    "X_test_counts_books = count_vect_books.transform(X_test_books)\n",
    "\n",
    "classifier_books = MultinomialNB()\n",
    "classifier_books.fit(X_train_counts_books, y_train_books)\n",
    "y_pred_books = classifier_books.predict(X_test_counts_books)\n",
    "precision_books, recall_books, fscore_books, support_books = precision_recall_fscore_support(y_test_books, y_pred_books)\n",
    "\n",
    "print(\"Precision:\", precision_books)\n",
    "print(\"Recall:\", recall_books)\n",
    "print(\"F1 Score:\", fscore_books)"
   ]
  },
  {
   "cell_type": "code",
   "execution_count": null,
   "metadata": {},
   "outputs": [],
   "source": [
    "X_movies = df_movies['review']\n",
    "y_movies = df_movies['sentiment']\n",
    "\n",
    "X_train_movies, X_test_movies, y_train_movies, y_test_movies = train_test_split(X_movies, y_movies, test_size=0.2)\n",
    "\n",
    "count_vect_movies = CountVectorizer()\n",
    "X_train_counts_movies = count_vect_movies.fit_transform(X_train_movies)\n",
    "X_test_counts_movies = count_vect_movies.transform(X_test_movies)\n",
    "\n",
    "classifier_movies = MultinomialNB()\n",
    "classifier_movies.fit(X_train_counts_movies, y_train_movies)\n",
    "y_pred_movies = classifier_movies.predict(X_test_counts_movies)\n",
    "precision_movies, recall_movies, fscore_movies, support_movies = precision_recall_fscore_support(y_test_movies, y_pred_movies)\n",
    "\n",
    "print(\"Precision:\", precision_movies)\n",
    "print(\"Recall:\", recall_movies)\n",
    "print(\"F1 Score:\", fscore_movies)"
   ]
  },
  {
   "cell_type": "code",
   "execution_count": null,
   "metadata": {},
   "outputs": [],
   "source": [
    "df_books.shape[0]"
   ]
  },
  {
   "cell_type": "code",
   "execution_count": null,
   "metadata": {},
   "outputs": [],
   "source": [
    "df_movies.shape[0]"
   ]
  },
  {
   "cell_type": "code",
   "execution_count": 10,
   "metadata": {},
   "outputs": [],
   "source": [
    "import seaborn as sns\n",
    "from matplotlib import pyplot as plt\n",
    "from sklearn.metrics import confusion_matrix"
   ]
  },
  {
   "cell_type": "code",
   "execution_count": null,
   "metadata": {},
   "outputs": [],
   "source": [
    "mat_books = confusion_matrix(y_test_books, y_pred_books)\n",
    "\n",
    "target_names = ['Negative', 'Neutral','Positive']\n",
    "sns.heatmap(mat_books.T, square=True, annot=True, fmt='d', cbar=False,\n",
    "            xticklabels=target_names, yticklabels=target_names)\n",
    "plt.xlabel('true label')\n",
    "plt.ylabel('predicted label')"
   ]
  },
  {
   "cell_type": "code",
   "execution_count": null,
   "metadata": {},
   "outputs": [],
   "source": [
    "mat_movies = confusion_matrix(y_test_movies, y_pred_movies)\n",
    "\n",
    "target_names = ['Negative', 'Neutral','Positive']\n",
    "sns.heatmap(mat_movies.T, square=True, annot=True, fmt='d', cbar=False,\n",
    "            xticklabels=target_names, yticklabels=target_names)\n",
    "plt.xlabel('true label')\n",
    "plt.ylabel('predicted label')"
   ]
  },
  {
   "cell_type": "markdown",
   "metadata": {},
   "source": [
    "### Negative - Positive"
   ]
  },
  {
   "cell_type": "code",
   "execution_count": null,
   "metadata": {},
   "outputs": [],
   "source": [
    "df_books = df_b.dropna(subset=['review_text'])\n",
    "df_books['sentiment'] = df_books['rating'].apply(lambda x: 0 if x < 4 else 1)\n",
    "df_books.head()"
   ]
  },
  {
   "cell_type": "markdown",
   "metadata": {},
   "source": [
    "#### Movie split 0-5 = Negative, 6-10 = Positive"
   ]
  },
  {
   "cell_type": "code",
   "execution_count": null,
   "metadata": {},
   "outputs": [],
   "source": [
    "df_movies = df_m.dropna(subset=['rating', 'review'])\n",
    "df_movies['rating'] = pd.to_numeric(df_movies['rating'], errors='coerce')\n",
    "df_movies['sentiment'] = df_movies['rating'].apply(lambda x: 0 if x <= 5 else 1)\n",
    "df_movies.head()"
   ]
  },
  {
   "cell_type": "code",
   "execution_count": null,
   "metadata": {},
   "outputs": [],
   "source": [
    "X_books = df_books['review_text']\n",
    "y_books = df_books['sentiment']\n",
    "\n",
    "X_train_books, X_test_books, y_train_books, y_test_books = train_test_split(X_books, y_books, test_size=0.2)\n",
    "\n",
    "count_vect_books = CountVectorizer()\n",
    "X_train_counts_books = count_vect_books.fit_transform(X_train_books)\n",
    "X_test_counts_books = count_vect_books.transform(X_test_books)\n",
    "\n",
    "classifier_books = MultinomialNB()\n",
    "classifier_books.fit(X_train_counts_books, y_train_books)\n",
    "y_pred_books = classifier_books.predict(X_test_counts_books)\n",
    "precision_books, recall_books, fscore_books, support_books = precision_recall_fscore_support(y_test_books, y_pred_books)\n",
    "\n",
    "print(\"Precision:\", precision_books)\n",
    "print(\"Recall:\", recall_books)\n",
    "print(\"F1 Score:\", fscore_books)"
   ]
  },
  {
   "cell_type": "code",
   "execution_count": null,
   "metadata": {},
   "outputs": [],
   "source": [
    "X_movies = df_movies['review']\n",
    "y_movies = df_movies['sentiment']\n",
    "\n",
    "X_train_movies, X_test_movies, y_train_movies, y_test_movies = train_test_split(X_movies, y_movies, test_size=0.2)\n",
    "\n",
    "count_vect_movies = CountVectorizer()\n",
    "X_train_counts_movies = count_vect_movies.fit_transform(X_train_movies)\n",
    "X_test_counts_movies = count_vect_movies.transform(X_test_movies)\n",
    "\n",
    "classifier_movies = MultinomialNB()\n",
    "classifier_movies.fit(X_train_counts_movies, y_train_movies)\n",
    "y_pred_movies = classifier_movies.predict(X_test_counts_movies)\n",
    "precision_movies, recall_movies, fscore_movies, support_movies = precision_recall_fscore_support(y_test_movies, y_pred_movies)\n",
    "\n",
    "print(\"Precision:\", precision_movies)\n",
    "print(\"Recall:\", recall_movies)\n",
    "print(\"F1 Score:\", fscore_movies)"
   ]
  },
  {
   "cell_type": "code",
   "execution_count": null,
   "metadata": {},
   "outputs": [],
   "source": [
    "mat_books = confusion_matrix(y_test_books, y_pred_books)\n",
    "\n",
    "target_names = ['Negative','Positive']\n",
    "sns.heatmap(mat_books.T, square=True, annot=True, fmt='d', cbar=False,\n",
    "            xticklabels=target_names, yticklabels=target_names)\n",
    "plt.xlabel('true label')\n",
    "plt.ylabel('predicted label')"
   ]
  },
  {
   "cell_type": "code",
   "execution_count": null,
   "metadata": {},
   "outputs": [],
   "source": [
    "mat_movies = confusion_matrix(y_test_movies, y_pred_movies)\n",
    "\n",
    "target_names = ['Negative','Positive']\n",
    "sns.heatmap(mat_movies.T, square=True, annot=True, fmt='d', cbar=False,\n",
    "            xticklabels=target_names, yticklabels=target_names)\n",
    "plt.xlabel('true label')\n",
    "plt.ylabel('predicted label')"
   ]
  },
  {
   "cell_type": "markdown",
   "metadata": {},
   "source": [
    "#### Movie Split 0-6 = Negative, 7-10 = Positive"
   ]
  },
  {
   "cell_type": "code",
   "execution_count": null,
   "metadata": {},
   "outputs": [],
   "source": [
    "\n",
    "df_movies['sentiment'] = df_movies['rating'].apply(lambda x: 0 if x <= 6 else 1)\n",
    "X_movies = df_movies['review']\n",
    "y_movies = df_movies['sentiment']\n",
    "\n",
    "X_train_movies, X_test_movies, y_train_movies, y_test_movies = train_test_split(X_movies, y_movies, test_size=0.2)\n",
    "\n",
    "count_vect_movies = CountVectorizer()\n",
    "X_train_counts_movies = count_vect_movies.fit_transform(X_train_movies)\n",
    "X_test_counts_movies = count_vect_movies.transform(X_test_movies)\n",
    "\n",
    "classifier_movies = MultinomialNB()\n",
    "classifier_movies.fit(X_train_counts_movies, y_train_movies)\n",
    "y_pred_movies = classifier_movies.predict(X_test_counts_movies)\n",
    "precision_movies, recall_movies, fscore_movies, support_movies = precision_recall_fscore_support(y_test_movies, y_pred_movies)\n",
    "\n",
    "print(\"Precision:\", precision_movies)\n",
    "print(\"Recall:\", recall_movies)\n",
    "print(\"F1 Score:\", fscore_movies)\n"
   ]
  },
  {
   "cell_type": "code",
   "execution_count": null,
   "metadata": {},
   "outputs": [],
   "source": [
    "ax = sns.countplot(x='rating', data=df_b)\n",
    "\n",
    "plt.title('Distribution of the Ratings on Goodreads')\n",
    "plt.xlabel('Rating')\n",
    "plt.ylabel('Number of Reviews')\n",
    "\n",
    "\n",
    "print('median: {}'.format(df_b.rating.median()))\n",
    "print('mean: {}'.format(df_b.rating.mean()))"
   ]
  },
  {
   "cell_type": "code",
   "execution_count": 20,
   "metadata": {},
   "outputs": [],
   "source": [
    "df_movies = df_movies.dropna()\n",
    "df_movies = df_movies.drop(df_movies[df_movies['rating'] == 'Null'].index)\n",
    "df_movies['rating'] = df_movies.rating.astype('float')"
   ]
  },
  {
   "cell_type": "code",
   "execution_count": null,
   "metadata": {},
   "outputs": [],
   "source": [
    "ax = sns.countplot(data=df_movies, x='rating')\n",
    "\n",
    "plt.title('Distribution of the Ratings on IMDB')\n",
    "plt.xlabel('Rating')\n",
    "plt.ylabel('Number of Reviews')\n",
    "\n",
    "\n",
    "print('median: {}'.format(df_movies.rating.median()))\n",
    "print('mean: {}'.format(df_movies.rating.mean()))"
   ]
  },
  {
   "cell_type": "code",
   "execution_count": null,
   "metadata": {},
   "outputs": [],
   "source": [
    "ax = sns.countplot(x='sentiment', data=df_books)\n",
    "\n",
    "plt.title('Distribution of the Sentiments on Goodreads')\n",
    "plt.xlabel('Sentiment (0: Negative; 1: Positive)')\n",
    "plt.ylabel('Number of Reviews')"
   ]
  },
  {
   "cell_type": "code",
   "execution_count": null,
   "metadata": {},
   "outputs": [],
   "source": [
    "ax = sns.countplot(data=df_movies, x='sentiment')\n",
    "\n",
    "plt.title('Distribution of the Sentiments on IMDB')\n",
    "plt.xlabel('Sentiment (0: Negative; 1: Positive)')\n",
    "plt.ylabel('Number of Reviews')"
   ]
  }
 ],
 "metadata": {
  "kernelspec": {
   "display_name": "Python 3",
   "language": "python",
   "name": "python3"
  },
  "language_info": {
   "codemirror_mode": {
    "name": "ipython",
    "version": 3
   },
   "file_extension": ".py",
   "mimetype": "text/x-python",
   "name": "python",
   "nbconvert_exporter": "python",
   "pygments_lexer": "ipython3",
   "version": "3.10.1"
  }
 },
 "nbformat": 4,
 "nbformat_minor": 2
}
